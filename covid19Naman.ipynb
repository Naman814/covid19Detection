{
  "nbformat": 4,
  "nbformat_minor": 0,
  "metadata": {
    "colab": {
      "name": "covid19Naman.ipynb",
      "provenance": [],
      "collapsed_sections": []
    },
    "kernelspec": {
      "name": "python3",
      "display_name": "Python 3"
    },
    "language_info": {
      "name": "python"
    },
    "accelerator": "GPU",
    "gpuClass": "standard"
  },
  "cells": [
    {
      "cell_type": "markdown",
      "source": [
        ""
      ],
      "metadata": {
        "id": "9HP1DGckceVS"
      }
    },
    {
      "cell_type": "markdown",
      "source": [
        "# New Section"
      ],
      "metadata": {
        "id": "mVg2mbCOyCHI"
      }
    },
    {
      "cell_type": "code",
      "execution_count": null,
      "metadata": {
        "id": "b84MGWY5ZbrA"
      },
      "outputs": [],
      "source": [
        "# Importing the tensorflow library\n",
        "import tensorflow as tf"
      ]
    },
    {
      "cell_type": "code",
      "source": [
        "from google.colab import drive\n",
        "drive.mount('/content/drive')"
      ],
      "metadata": {
        "id": "ZES-0rcTYvDu",
        "outputId": "95b1b7ad-438c-4b83-9aed-a1ac94c6a36d",
        "colab": {
          "base_uri": "https://localhost:8080/"
        }
      },
      "execution_count": null,
      "outputs": [
        {
          "output_type": "stream",
          "name": "stdout",
          "text": [
            "Mounted at /content/drive\n"
          ]
        }
      ]
    },
    {
      "cell_type": "code",
      "source": [
        "# Initialising the CNN\n",
        "classifier = tf.keras.models.Sequential()\n",
        "\n",
        "classifier.add(tf.keras.layers.Convolution2D(filters=32, kernel_size=3, padding=\"same\", input_shape=(64, 64, 3),\n",
        "                                             activation='relu'))\n",
        "\n",
        "classifier.add(tf.keras.layers.MaxPooling2D(pool_size=2, strides=2, padding='valid'))\n",
        "\n",
        "classifier.add(tf.keras.layers.Convolution2D(filters=64, kernel_size=3, padding=\"same\", activation=\"relu\"))\n",
        "classifier.add(tf.keras.layers.MaxPooling2D(pool_size=2, strides=2, padding='valid'))\n",
        "\n",
        "classifier.add(tf.keras.layers.Flatten())\n",
        "\n",
        "classifier.add(tf.keras.layers.Dense(units=128, activation='relu'))\n",
        "classifier.add(tf.keras.layers.Dense(units=1, activation='sigmoid'))\n",
        "\n",
        "classifier.compile(optimizer='adam', loss='binary_crossentropy', metrics=['accuracy'])\n",
        "classifier.summary()"
      ],
      "metadata": {
        "colab": {
          "base_uri": "https://localhost:8080/"
        },
        "id": "gjwvOkwpZrZQ",
        "outputId": "73588b68-5b93-4d3e-abb7-1a7da8d63f23"
      },
      "execution_count": null,
      "outputs": [
        {
          "output_type": "stream",
          "name": "stdout",
          "text": [
            "Model: \"sequential\"\n",
            "_________________________________________________________________\n",
            " Layer (type)                Output Shape              Param #   \n",
            "=================================================================\n",
            " conv2d (Conv2D)             (None, 64, 64, 32)        896       \n",
            "                                                                 \n",
            " max_pooling2d (MaxPooling2D  (None, 32, 32, 32)       0         \n",
            " )                                                               \n",
            "                                                                 \n",
            " conv2d_1 (Conv2D)           (None, 32, 32, 64)        18496     \n",
            "                                                                 \n",
            " max_pooling2d_1 (MaxPooling  (None, 16, 16, 64)       0         \n",
            " 2D)                                                             \n",
            "                                                                 \n",
            " flatten (Flatten)           (None, 16384)             0         \n",
            "                                                                 \n",
            " dense (Dense)               (None, 128)               2097280   \n",
            "                                                                 \n",
            " dense_1 (Dense)             (None, 1)                 129       \n",
            "                                                                 \n",
            "=================================================================\n",
            "Total params: 2,116,801\n",
            "Trainable params: 2,116,801\n",
            "Non-trainable params: 0\n",
            "_________________________________________________________________\n"
          ]
        }
      ]
    },
    {
      "cell_type": "code",
      "source": [
        "# Part 2 - Fitting the CNN to the images\n",
        "from tensorflow.keras.preprocessing.image import ImageDataGenerator\n",
        "\n",
        "train_datagen = ImageDataGenerator(rescale=1. / 255,\n",
        "                                   shear_range=0.2,\n",
        "                                   zoom_range=0.2,\n",
        "                                   horizontal_flip=True)\n",
        "\n",
        "test_datagen = ImageDataGenerator(rescale=1. / 255)\n",
        "\n",
        "training_set = train_datagen.flow_from_directory('/content/drive/MyDrive/covid19Project/Data/train',\n",
        "                                                 target_size=(64, 64),\n",
        "                                                 batch_size=32,\n",
        "                                                 class_mode='binary')\n",
        "\n",
        "test_set = test_datagen.flow_from_directory('/content/drive/MyDrive/covid19Project/Data/test',\n",
        "                                            target_size=(64, 64),\n",
        "                                            batch_size=32,\n",
        "                                            class_mode='binary')"
      ],
      "metadata": {
        "id": "jyfGc3jPZvcD",
        "colab": {
          "base_uri": "https://localhost:8080/"
        },
        "outputId": "c37fac47-e843-4769-bb0b-f925b1472bbf"
      },
      "execution_count": null,
      "outputs": [
        {
          "output_type": "stream",
          "name": "stdout",
          "text": [
            "Found 100 images belonging to 2 classes.\n",
            "Found 100 images belonging to 2 classes.\n"
          ]
        }
      ]
    },
    {
      "cell_type": "code",
      "source": [
        "#training \n",
        "history = classifier.fit(training_set,\n",
        "                         steps_per_epoch=4,\n",
        "                         epochs=10,\n",
        "                         validation_data=test_set,\n",
        "                         validation_steps=4)"
      ],
      "metadata": {
        "id": "CEa4ZkvqZ7hc",
        "colab": {
          "base_uri": "https://localhost:8080/"
        },
        "outputId": "2565756e-643b-4d2a-f20a-227c244d224d"
      },
      "execution_count": null,
      "outputs": [
        {
          "output_type": "stream",
          "name": "stdout",
          "text": [
            "Epoch 1/10\n",
            "4/4 [==============================] - 54s 14s/step - loss: 0.7516 - accuracy: 0.5700 - val_loss: 0.4646 - val_accuracy: 0.9200\n",
            "Epoch 2/10\n",
            "4/4 [==============================] - 6s 2s/step - loss: 0.4769 - accuracy: 0.7700 - val_loss: 0.3370 - val_accuracy: 0.9300\n",
            "Epoch 3/10\n",
            "4/4 [==============================] - 6s 2s/step - loss: 0.3401 - accuracy: 0.8900 - val_loss: 0.2127 - val_accuracy: 0.9500\n",
            "Epoch 4/10\n",
            "4/4 [==============================] - 6s 2s/step - loss: 0.3512 - accuracy: 0.8700 - val_loss: 0.3348 - val_accuracy: 0.8500\n",
            "Epoch 5/10\n",
            "4/4 [==============================] - 6s 2s/step - loss: 0.3195 - accuracy: 0.8400 - val_loss: 0.1878 - val_accuracy: 0.9500\n",
            "Epoch 6/10\n",
            "4/4 [==============================] - 6s 2s/step - loss: 0.2919 - accuracy: 0.8600 - val_loss: 0.1757 - val_accuracy: 0.9600\n",
            "Epoch 7/10\n",
            "4/4 [==============================] - 6s 2s/step - loss: 0.2503 - accuracy: 0.8900 - val_loss: 0.2973 - val_accuracy: 0.8600\n",
            "Epoch 8/10\n",
            "4/4 [==============================] - 6s 2s/step - loss: 0.1932 - accuracy: 0.9200 - val_loss: 0.0991 - val_accuracy: 0.9600\n",
            "Epoch 9/10\n",
            "4/4 [==============================] - 6s 2s/step - loss: 0.1212 - accuracy: 0.9700 - val_loss: 0.1107 - val_accuracy: 0.9700\n",
            "Epoch 10/10\n",
            "4/4 [==============================] - 6s 2s/step - loss: 0.1100 - accuracy: 0.9500 - val_loss: 0.1513 - val_accuracy: 0.9500\n"
          ]
        }
      ]
    },
    {
      "cell_type": "code",
      "source": [
        "classifier.save('/content/drive/MyDrive/covid19Project/my_model3.h5')"
      ],
      "metadata": {
        "id": "ap0MMru6Z_h_"
      },
      "execution_count": null,
      "outputs": []
    },
    {
      "cell_type": "code",
      "source": [
        "# evaluation on test set\n",
        "loaded_model = tf.keras.models.load_model('/content/drive/MyDrive/covid19Project/my_model3.h5')\n",
        "loaded_model.evaluate(test_set)"
      ],
      "metadata": {
        "id": "62uacUgib_pj",
        "colab": {
          "base_uri": "https://localhost:8080/"
        },
        "outputId": "313f57c1-7336-4e02-d853-fddfa0629b93"
      },
      "execution_count": null,
      "outputs": [
        {
          "output_type": "stream",
          "name": "stdout",
          "text": [
            "4/4 [==============================] - 3s 651ms/step - loss: 0.1513 - accuracy: 0.9500\n"
          ]
        },
        {
          "output_type": "execute_result",
          "data": {
            "text/plain": [
              "[0.15130439400672913, 0.949999988079071]"
            ]
          },
          "metadata": {},
          "execution_count": 7
        }
      ]
    },
    {
      "cell_type": "code",
      "source": [
        "import matplotlib.pyplot as plt\n",
        "plt.plot(history.history['accuracy'])\n",
        "plt.plot(history.history['val_accuracy'])\n",
        "plt.title('model accuracy')\n",
        "plt.ylabel('accuracy')\n",
        "plt.xlabel('epoch')\n",
        "plt.legend(['train', 'test'], loc='upper left')\n",
        "plt.show()\n",
        "\n",
        "plt.plot(history.history['loss'])\n",
        "plt.plot(history.history['val_loss'])\n",
        "plt.title('model loss')\n",
        "plt.ylabel('loss')\n",
        "plt.xlabel('epoch')\n",
        "plt.legend(['train', 'test'], loc='upper left')\n",
        "plt.show()"
      ],
      "metadata": {
        "id": "itu-SkXGce9a",
        "colab": {
          "base_uri": "https://localhost:8080/",
          "height": 573
        },
        "outputId": "ea12fec0-6bfc-4702-82f4-5e3dce973003"
      },
      "execution_count": null,
      "outputs": [
        {
          "output_type": "display_data",
          "data": {
            "text/plain": [
              "<Figure size 432x288 with 1 Axes>"
            ],
            "image/png": "[encoded data removed]"
          },
          "metadata": {
            "needs_background": "light"
          }
        },
        {
          "output_type": "display_data",
          "data": {
            "text/plain": [
              "<Figure size 432x288 with 1 Axes>"
            ],
            "image/png": "[encoded data removed]"
          },
          "metadata": {
            "needs_background": "light"
          }
        }
      ]
    },
    {
      "cell_type": "code",
      "source": [
        "# for only one prediction\n",
        "import numpy as np\n",
        "from tensorflow.keras.preprocessing import image\n",
        "\n",
        "test_image = image.load_img(r'/content/drive/MyDrive/covid19Project/Data/test/Covid/80446565-E090-4187-A031-9D3CEAA586C8.jpeg',target_size=(64, 64))\n",
        "plt.imshow(test_image)\n",
        "test_image = image.img_to_array(test_image)\n",
        "test_image = np.expand_dims(test_image, axis=0)\n",
        "result = classifier.predict(test_image)\n",
        "training_set.class_indices\n",
        "if result[0][0] == 1:\n",
        "    prediction = 'Normal'\n",
        "else:\n",
        "    prediction = 'Covid'\n",
        "print(prediction)"
      ],
      "metadata": {
        "id": "LvzhhDEHciN1",
        "colab": {
          "base_uri": "https://localhost:8080/",
          "height": 285
        },
        "outputId": "66363894-c436-423a-e171-267d52869e33"
      },
      "execution_count": null,
      "outputs": [
        {
          "output_type": "stream",
          "name": "stdout",
          "text": [
            "Covid\n"
          ]
        },
        {
          "output_type": "display_data",
          "data": {
            "text/plain": [
              "<Figure size 432x288 with 1 Axes>"
            ],
            "image/png": "[encoded data removed]"
          },
          "metadata": {
            "needs_background": "light"
          }
        }
      ]
    },
    {
      "cell_type": "code",
      "source": [
        "import numpy as np\n",
        "from tensorflow.keras.preprocessing import image\n",
        "\n",
        "test_image = image.load_img(r'/content/drive/MyDrive/covid19Project/Data/test/Normal/IM-0235-0001.jpeg',target_size=(64, 64))\n",
        "plt.imshow(test_image)\n",
        "test_image = image.img_to_array(test_image)\n",
        "test_image = np.expand_dims(test_image, axis=0)\n",
        "result = classifier.predict(test_image)\n",
        "training_set.class_indices\n",
        "if result[0][0] == 1:\n",
        "    prediction = 'Normal'\n",
        "else:\n",
        "    prediction = 'Covid'\n",
        "print(prediction)"
      ],
      "metadata": {
        "id": "uz8IFqSuyh62",
        "colab": {
          "base_uri": "https://localhost:8080/",
          "height": 285
        },
        "outputId": "22f52276-cdc7-42e4-9d1f-07e73e48363c"
      },
      "execution_count": null,
      "outputs": [
        {
          "output_type": "stream",
          "name": "stdout",
          "text": [
            "Normal\n"
          ]
        },
        {
          "output_type": "display_data",
          "data": {
            "text/plain": [
              "<Figure size 432x288 with 1 Axes>"
            ],
            "image/png": "[encoded data removed]"
          },
          "metadata": {
            "needs_background": "light"
          }
        }
      ]
    },
    {
      "cell_type": "code",
      "source": [
        "# plot confusion matrix\n",
        "y_pred = []\n",
        "y_test = []\n",
        "import os\n",
        "\n",
        "for i in os.listdir(\"/content/drive/MyDrive/covid19Project/Data/test/Normal\"):\n",
        "    img = image.load_img(\"/content/drive/MyDrive/covid19Project/Data/test/Normal/\" + i, target_size=(64, 64))\n",
        "    img = image.img_to_array(img)\n",
        "    img = np.expand_dims(img, axis=0)\n",
        "    p = classifier.predict(img)\n",
        "    y_test.append(p[0, 0])\n",
        "    y_pred.append(1)\n",
        "\n",
        "for i in os.listdir(\"/content/drive/MyDrive/covid19Project/Data/test/Covid\"):\n",
        "    img = image.load_img(\"/content/drive/MyDrive/covid19Project/Data/test/Covid/\" + i, target_size=(64, 64))\n",
        "    img = image.img_to_array(img)\n",
        "    img = np.expand_dims(img, axis=0)\n",
        "    p = classifier.predict(img)\n",
        "    y_test.append(p[0, 0])\n",
        "    y_pred.append(0)\n",
        "\n",
        "y_pred = np.array(y_pred)\n",
        "y_test = np.array(y_test)"
      ],
      "metadata": {
        "id": "VbRC3zEucxXx"
      },
      "execution_count": null,
      "outputs": []
    },
    {
      "cell_type": "code",
      "source": [
        "from sklearn.metrics import confusion_matrix\n",
        "import seaborn as sns\n",
        "from sklearn.metrics import classification_report\n",
        "\n",
        "cm = confusion_matrix(y_pred, y_test.round())\n",
        "sns.heatmap(cm, cmap=\"plasma\", annot=True)\n",
        "plt.show()\n",
        "\n",
        "print(classification_report(y_pred, y_test.round()))"
      ],
      "metadata": {
        "id": "LEoRr_qYih5D",
        "colab": {
          "base_uri": "https://localhost:8080/",
          "height": 425
        },
        "outputId": "416ae128-c582-4ca5-825a-54634d4ef2fd"
      },
      "execution_count": null,
      "outputs": [
        {
          "output_type": "display_data",
          "data": {
            "text/plain": [
              "<Figure size 432x288 with 2 Axes>"
            ],
            "image/png": "[encoded data removed]"
          },
          "metadata": {
            "needs_background": "light"
          }
        },
        {
          "output_type": "stream",
          "name": "stdout",
          "text": [
            "              precision    recall  f1-score   support\n",
            "\n",
            "           0       1.00      0.92      0.96        50\n",
            "           1       0.93      1.00      0.96        50\n",
            "\n",
            "    accuracy                           0.96       100\n",
            "   macro avg       0.96      0.96      0.96       100\n",
            "weighted avg       0.96      0.96      0.96       100\n",
            "\n"
          ]
        }
      ]
    }
  ]
}